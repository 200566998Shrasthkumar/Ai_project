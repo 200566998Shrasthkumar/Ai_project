{
 "cells": [
  {
   "cell_type": "markdown",
   "metadata": {
    "id": "bIS7kPs-LZvU"
   },
   "source": [
    "# **Performance best practices**\n",
    "\n",
    "Array operations with GPUs can provide considerable speedups over CPU computing.\n",
    "\n",
    "[CuPy](https://cupy.dev/) is an open-source array library for GPU-accelerated computing with Python. CuPy utilizes CUDA Toolkit libraries including cuBLAS, cuRAND, cuSOLVER, cuSPARSE, cuFFT, cuDNN and NCCL to make full use of the GPU architecture.\n",
    "\n",
    "*  Most operations perform well on a GPU using CuPy. CuPy speeds up some operations more than 100X.\n",
    "\n",
    "*  CuPy's interface is highly compatible with NumPy. CuPy supports various methods, indexing, data types, broadcasting and more. This [comparison table](https://docs.cupy.dev/en/stable/reference/comparison.html) shows a list of NumPy and their corresponding CuPy implementations.\n",
    "\n",
    "[NumPy](https://numpy.org/doc/stable/user/whatisnumpy.html) is the fundamental package for scientific computing in Python. It is a Python library that provides a multidimensional array object, various derived objects (such as masked arrays and matrices), and an assortment of routines for fast operations on arrays, including mathematical, logical, shape manipulation, sorting, selecting, I/O, discrete Fourier transforms, basic linear algebra, basic statistical operations, random simulation and much more.\n",
    "\n"
   ]
  },
  {
   "cell_type": "markdown",
   "metadata": {
    "id": "s3MzFNh0JOx3"
   },
   "source": [
    "## **Benchmarking speed- NumPy vs CuPy**"
   ]
  },
  {
   "cell_type": "markdown",
   "metadata": {
    "id": "D-8IpCusOdfa"
   },
   "source": [
    "In this tutorial, we will perform some opeations using NumPy and CuPy library and we will benchmark the time."
   ]
  },
  {
   "cell_type": "code",
   "execution_count": 1,
   "metadata": {
    "id": "wgTcdb1GJOx0"
   },
   "outputs": [],
   "source": [
    "# import libraries\n",
    "import numpy as np\n",
    "import cupy"
   ]
  },
  {
   "cell_type": "markdown",
   "metadata": {
    "id": "9Q8sW5ykRBFn"
   },
   "source": [
    "Let's start with creating an array using NumPy and CuPy and compare the time."
   ]
  },
  {
   "cell_type": "markdown",
   "metadata": {
    "id": "Ku7Gu62CJOx3"
   },
   "source": [
    "### **Creating an array with NumPy**"
   ]
  },
  {
   "cell_type": "code",
   "execution_count": 2,
   "metadata": {
    "id": "CnfIHTkGJOx4"
   },
   "outputs": [
    {
     "name": "stdout",
     "output_type": "stream",
     "text": [
      "CPU times: user 52 ms, sys: 36 ms, total: 88 ms\n",
      "Wall time: 89.4 ms\n"
     ]
    }
   ],
   "source": [
    "%%time\n",
    "np_var1 = np.random.random((1000, 1000))\n",
    "np_var2 = np.random.random((1000, 1000))"
   ]
  },
  {
   "cell_type": "markdown",
   "metadata": {
    "id": "UF2KxiJeNi86"
   },
   "source": [
    "### **Creating and array with CuPy**"
   ]
  },
  {
   "cell_type": "code",
   "execution_count": 3,
   "metadata": {
    "id": "1ePwSjMuJOx5"
   },
   "outputs": [],
   "source": [
    "import cupy\n",
    "\n",
    "cp_var1 = cupy.random.random((1000, 1000))\n",
    "cp_var2 = cupy.random.random((1000, 1000))\n",
    "cupy.cuda.Stream.null.synchronize()"
   ]
  },
  {
   "cell_type": "code",
   "execution_count": 4,
   "metadata": {
    "id": "rFutKMJGJOx5"
   },
   "outputs": [
    {
     "data": {
      "text/plain": [
       "array([[0.35063281, 0.80893198, 0.91453072, ..., 0.60154181, 0.01145897,\n",
       "        0.14707778],\n",
       "       [0.09622752, 0.73849258, 0.60941948, ..., 0.45911144, 0.07324936,\n",
       "        0.54811486],\n",
       "       [0.63746221, 0.41509159, 0.48774599, ..., 0.43642978, 0.46748861,\n",
       "        0.14921748],\n",
       "       ...,\n",
       "       [0.88984273, 0.30721908, 0.77000141, ..., 0.8578446 , 0.85904314,\n",
       "        0.33674486],\n",
       "       [0.24330214, 0.42415694, 0.80291595, ..., 0.20949958, 0.58662834,\n",
       "        0.95382801],\n",
       "       [0.78260394, 0.61864832, 0.81977013, ..., 0.00658037, 0.26171171,\n",
       "        0.83665921]])"
      ]
     },
     "execution_count": 4,
     "metadata": {},
     "output_type": "execute_result"
    }
   ],
   "source": [
    "# print the numpy array\n",
    "import numpy as np\n",
    "np_var1 = np.random.random((1000, 1000))\n",
    "np_var1 "
   ]
  },
  {
   "cell_type": "code",
   "execution_count": 5,
   "metadata": {
    "id": "vhMq7V8-JOx6"
   },
   "outputs": [
    {
     "data": {
      "text/plain": [
       "array([[0.65963383, 0.0358734 , 0.07628207, ..., 0.48937246, 0.52197267,\n",
       "        0.33891188],\n",
       "       [0.3073909 , 0.87452781, 0.07990874, ..., 0.68921197, 0.41215489,\n",
       "        0.19447408],\n",
       "       [0.36956123, 0.0063404 , 0.43942412, ..., 0.94645865, 0.50385998,\n",
       "        0.87317452],\n",
       "       ...,\n",
       "       [0.41483496, 0.61972582, 0.18360737, ..., 0.18216225, 0.45737958,\n",
       "        0.45824428],\n",
       "       [0.53804461, 0.49404657, 0.85041006, ..., 0.52874339, 0.82241322,\n",
       "        0.55631528],\n",
       "       [0.11334664, 0.23737837, 0.36879398, ..., 0.88635032, 0.26332911,\n",
       "        0.00368526]])"
      ]
     },
     "execution_count": 5,
     "metadata": {},
     "output_type": "execute_result"
    }
   ],
   "source": [
    "# print the cupy array\n",
    "import cupy\n",
    "\n",
    "cp_var1 = cupy.random.random((10000, 10000))\n",
    "cp_var1"
   ]
  },
  {
   "cell_type": "markdown",
   "metadata": {
    "id": "jWpib_dLJOx6"
   },
   "source": [
    "### **Trigonometric function**\n",
    "\n",
    "Let's do some trigonometric operations and compare the time."
   ]
  },
  {
   "cell_type": "code",
   "execution_count": 6,
   "metadata": {
    "id": "HDCYYekAJOx6"
   },
   "outputs": [
    {
     "name": "stdout",
     "output_type": "stream",
     "text": [
      "164 ms ± 176 µs per loop (mean ± std. dev. of 7 runs, 1 loop each)\n"
     ]
    }
   ],
   "source": [
    "import numpy as np\n",
    "\n",
    "np_var1 = np.random.random((1000, 1000))\n",
    "np_var2 = np.random.random((1000, 1000))\n",
    "\n",
    "%timeit bool((np.sin(np_var1) ** 2 + np.cos(np_var1) ** 2 == 1).all())"
   ]
  },
  {
   "cell_type": "code",
   "execution_count": 7,
   "metadata": {
    "id": "XgQEqhvgJOx7"
   },
   "outputs": [
    {
     "name": "stdout",
     "output_type": "stream",
     "text": [
      "76.5 ms ± 37.7 ms per loop (mean ± std. dev. of 7 runs, 1 loop each)\n"
     ]
    }
   ],
   "source": [
    "import cupy\n",
    "\n",
    "cp_var1 = cupy.random.random((1000, 1000))\n",
    "cp_var2 = cupy.random.random((1000, 1000))\n",
    "cupy.cuda.Stream.null.synchronize()\n",
    "\n",
    "%timeit bool((cupy.sin(cp_var2) ** 2 + cupy.cos(cp_var2) ** 2 == 1).all())"
   ]
  },
  {
   "cell_type": "markdown",
   "metadata": {
    "id": "v83A4q_oJOx7"
   },
   "source": [
    "### **Multiplying the array**\n",
    "\n",
    "Let's do some aritmetic operations and compare the time."
   ]
  },
  {
   "cell_type": "code",
   "execution_count": 8,
   "metadata": {
    "id": "7ImvTgc8JOx7"
   },
   "outputs": [],
   "source": [
    "import numpy as np\n",
    "\n",
    "np_var1 = np.random.random((1000, 1000))\n",
    "\n",
    "np_var1 *= 10"
   ]
  },
  {
   "cell_type": "code",
   "execution_count": 9,
   "metadata": {
    "id": "b5I5-wD7JOx7"
   },
   "outputs": [],
   "source": [
    "import cupy\n",
    "\n",
    "cp_var1 = cupy.random.random((1000, 1000))\n",
    "\n",
    "cp_var1 *= 10\n",
    "cupy.cuda.Stream.null.synchronize()"
   ]
  },
  {
   "cell_type": "markdown",
   "metadata": {
    "id": "5vEb7abfJOx8"
   },
   "source": [
    "### **Performing multiple operations on the array**"
   ]
  },
  {
   "cell_type": "code",
   "execution_count": 10,
   "metadata": {
    "id": "jDQ37Zu5JOx8"
   },
   "outputs": [],
   "source": [
    "import numpy as np\n",
    "\n",
    "np_var1 = np.random.random((1000, 1000))\n",
    "np_var2 = np.random.random((1000, 1000))\n",
    "\n",
    "np_var1 *= 10\n",
    "np_var2 *= 20\n",
    "np_var1 *= np_var2"
   ]
  },
  {
   "cell_type": "code",
   "execution_count": 11,
   "metadata": {
    "id": "x-Dn9MUzJOx8"
   },
   "outputs": [],
   "source": [
    "import cupy\n",
    "\n",
    "cp_var1 = cupy.random.random((1000, 1000))\n",
    "cp_var2 = cupy.random.random((1000, 1000))\n",
    "\n",
    "cp_var1 *= 10\n",
    "cp_var2 *= 20\n",
    "cp_var1 *= cp_var2\n",
    "cupy.cuda.Stream.null.synchronize()"
   ]
  },
  {
   "cell_type": "markdown",
   "metadata": {
    "id": "_yg2_xxJPvyH"
   },
   "source": [
    "# **Exercise**\n",
    "You can also find other operations from [the comparison table](https://docs.cupy.dev/en/stable/reference/comparison.html).\n",
    "\n",
    "Use the following operations do NumPy and CuPy implementation and then benchmark the times. \n",
    "- numpy.absolute | cupy.absolute\n",
    "- numpy.median | cupy.median\n",
    "- numpy.resize | cupy.resize\n",
    "- numpy.shape | cupy.shape\n",
    "- numpy.ndarray.fill() | cupy.ndarray.fill()"
   ]
  },
  {
   "cell_type": "code",
   "execution_count": 12,
   "metadata": {},
   "outputs": [
    {
     "name": "stdout",
     "output_type": "stream",
     "text": [
      "CPU times: user 0 ns, sys: 0 ns, total: 0 ns\n",
      "Wall time: 20.5 µs\n"
     ]
    }
   ],
   "source": [
    "import numpy as np\n",
    "%time\n",
    "np_var1 = np.absolute((1000, 1000))"
   ]
  },
  {
   "cell_type": "code",
   "execution_count": 13,
   "metadata": {},
   "outputs": [
    {
     "name": "stdout",
     "output_type": "stream",
     "text": [
      "CPU times: user 0 ns, sys: 0 ns, total: 0 ns\n",
      "Wall time: 21 µs\n",
      "[1000 1000]\n"
     ]
    }
   ],
   "source": [
    "import cupy\n",
    "\n",
    "%time\n",
    "# Create a cupy array from the tuple and apply absolute value\n",
    "cp_var1 = cupy.absolute(cupy.array([1000, 1000]))\n",
    "cupy.cuda.Stream.null.synchronize()\n",
    "\n",
    "print(cp_var1)"
   ]
  },
  {
   "cell_type": "code",
   "execution_count": 14,
   "metadata": {},
   "outputs": [
    {
     "name": "stdout",
     "output_type": "stream",
     "text": [
      "CPU times: user 0 ns, sys: 0 ns, total: 0 ns\n",
      "Wall time: 21.2 µs\n"
     ]
    }
   ],
   "source": [
    "import numpy as np\n",
    "%time\n",
    "np_var1 = np.median((1000, 1000))"
   ]
  },
  {
   "cell_type": "code",
   "execution_count": 15,
   "metadata": {},
   "outputs": [
    {
     "name": "stdout",
     "output_type": "stream",
     "text": [
      "CPU times: user 0 ns, sys: 0 ns, total: 0 ns\n",
      "Wall time: 24.1 µs\n",
      "1000.0\n"
     ]
    }
   ],
   "source": [
    "import cupy\n",
    "\n",
    "%time\n",
    "# Create a cupy array from the tuple and apply absolute value\n",
    "cp_var1 = cupy.median(cupy.array([1000, 1000]))\n",
    "cupy.cuda.Stream.null.synchronize()\n",
    "\n",
    "print(cp_var1)"
   ]
  },
  {
   "cell_type": "code",
   "execution_count": 16,
   "metadata": {},
   "outputs": [
    {
     "name": "stdout",
     "output_type": "stream",
     "text": [
      "CPU times: user 0 ns, sys: 0 ns, total: 0 ns\n",
      "Wall time: 21.7 µs\n"
     ]
    }
   ],
   "source": [
    "import numpy as np\n",
    "%time\n",
    "np_var1 = np.resize(np.zeros((1000, 1000)), (2000, 2000))"
   ]
  },
  {
   "cell_type": "code",
   "execution_count": 17,
   "metadata": {},
   "outputs": [
    {
     "name": "stdout",
     "output_type": "stream",
     "text": [
      "CPU times: user 0 ns, sys: 0 ns, total: 0 ns\n",
      "Wall time: 21.2 µs\n"
     ]
    }
   ],
   "source": [
    "import cupy\n",
    "\n",
    "%time\n",
    "# Create a Cupy array\n",
    "cp_var1 = cupy.array(np.zeros((1000, 1000)))\n",
    "\n",
    "# Resize the array to the new shape (for example, 2000x2000)\n",
    "cp_var1_resized = cupy.resize(cp_var1, (2000, 2000))\n",
    "\n",
    "cupy.cuda.Stream.null.synchronize()"
   ]
  },
  {
   "cell_type": "code",
   "execution_count": 18,
   "metadata": {},
   "outputs": [
    {
     "name": "stdout",
     "output_type": "stream",
     "text": [
      "CPU times: user 0 ns, sys: 0 ns, total: 0 ns\n",
      "Wall time: 24.6 µs\n"
     ]
    }
   ],
   "source": [
    "import numpy as np\n",
    "%time\n",
    "np_var1 = np.shape((1000, 1000))"
   ]
  },
  {
   "cell_type": "code",
   "execution_count": 19,
   "metadata": {},
   "outputs": [
    {
     "name": "stdout",
     "output_type": "stream",
     "text": [
      "CPU times: user 0 ns, sys: 0 ns, total: 0 ns\n",
      "Wall time: 26.2 µs\n",
      "(2,)\n"
     ]
    }
   ],
   "source": [
    "import cupy\n",
    "%time\n",
    "# Create a cupy array from the tuple and apply absolute value\n",
    "cp_var1 = cupy.shape(cupy.array([1000, 1000]))\n",
    "cupy.cuda.Stream.null.synchronize()\n",
    "\n",
    "print(cp_var1)"
   ]
  },
  {
   "cell_type": "code",
   "execution_count": 20,
   "metadata": {},
   "outputs": [
    {
     "name": "stdout",
     "output_type": "stream",
     "text": [
      "CPU times: user 0 ns, sys: 0 ns, total: 0 ns\n",
      "Wall time: 21.5 µs\n"
     ]
    }
   ],
   "source": [
    "import numpy as np\n",
    "\n",
    "%time\n",
    "# Create an empty 1000x1000 array\n",
    "np_var1 = np.empty((1000, 1000))\n",
    "\n",
    "# Fill the array with a specific value (e.g., 5)\n",
    "np_var1.fill(5)"
   ]
  },
  {
   "cell_type": "code",
   "execution_count": 21,
   "metadata": {},
   "outputs": [
    {
     "name": "stdout",
     "output_type": "stream",
     "text": [
      "CPU times: user 0 ns, sys: 0 ns, total: 0 ns\n",
      "Wall time: 22.6 µs\n"
     ]
    }
   ],
   "source": [
    "import cupy\n",
    "\n",
    "%time\n",
    "# Create a 1000x1000 cupy array\n",
    "cp_var1 = cupy.empty((1000, 1000))\n",
    "\n",
    "# Fill the array with a specific value (e.g., 5)\n",
    "cp_var1.fill(5)\n",
    "\n",
    "# Or, use cupy.full() to directly create the array filled with the value\n",
    "cp_var2 = cupy.full((1000, 1000), 5)\n"
   ]
  }
 ],
 "metadata": {
  "colab": {
   "collapsed_sections": [],
   "name": "Module-1-Lab-bench-numpy-cupy.ipynb",
   "provenance": []
  },
  "kernelspec": {
   "display_name": "Python 3",
   "language": "python",
   "name": "python3"
  },
  "language_info": {
   "codemirror_mode": {
    "name": "ipython",
    "version": 3
   },
   "file_extension": ".py",
   "mimetype": "text/x-python",
   "name": "python",
   "nbconvert_exporter": "python",
   "pygments_lexer": "ipython3",
   "version": "3.6.9"
  }
 },
 "nbformat": 4,
 "nbformat_minor": 4
}
